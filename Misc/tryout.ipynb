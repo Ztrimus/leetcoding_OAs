{
 "cells": [
  {
   "cell_type": "code",
   "execution_count": 14,
   "metadata": {},
   "outputs": [
    {
     "data": {
      "text/plain": [
       "array([0.92307692, 0.87692308, 1.10769231, 1.10769231, 0.92307692,\n",
       "       0.87692308])"
      ]
     },
     "execution_count": 14,
     "metadata": {},
     "output_type": "execute_result"
    }
   ],
   "source": [
    "import numpy as np\n",
    "dd = np.array([[1.7582417582417582416, 0.87912087912087912086, 1.098901098901098901, 1.054945054945054945, 0.70329670329670329663, 0.65934065934065934062], [0.87912087912087912086, 1.6703296703296703295, 1.0109890109890109889, 0.83516483516483516477, 0.65934065934065934059, 0.79120879120879120875], [1.098901098901098901, 1.0109890109890109889, 2.10989010989010989, 1.2747252747252747252, 1.0549450549450549449, 0.8351648351648351648], [1.054945054945054945, 0.83516483516483516481, 1.2747252747252747252, 2.1098901098901098899, 1.0989010989010989009, 1.0109890109890109889], [0.70329670329670329668, 0.65934065934065934064, 1.054945054945054945, 1.098901098901098901, 1.7582417582417582416, 0.87912087912087912083], [0.65934065934065934064, 0.79120879120879120877, 0.83516483516483516482, 1.0109890109890109889, 0.87912087912087912079, 1.6703296703296703296]])\n",
    "dd.shape\n",
    "0.15*dd @ np.array([1,1,1,1,1,1])"
   ]
  },
  {
   "cell_type": "code",
   "execution_count": 11,
   "metadata": {},
   "outputs": [
    {
     "name": "stdout",
     "output_type": "stream",
     "text": [
      "Adjacency Matrix:\n",
      "[[0. 1. 1. 1. 0. 0.]\n",
      " [1. 0. 1. 0. 0. 1.]\n",
      " [1. 1. 0. 1. 1. 0.]\n",
      " [1. 0. 1. 0. 1. 1.]\n",
      " [0. 0. 1. 1. 0. 1.]\n",
      " [0. 1. 0. 1. 1. 0.]]\n"
     ]
    }
   ],
   "source": [
    "import networkx as nx\n",
    "\n",
    "# Create an empty graph\n",
    "G = nx.Graph()\n",
    "\n",
    "# Add nodes and edges to your graph\n",
    "G.add_nodes_from([1, 2, 3, 4, 5, 6])\n",
    "G.add_edges_from([(1, 2), (1, 3), (1, 4), (2, 3), (2,6), (3,4), (3,5), (4,5), (4,6),(5,6)])\n",
    "\n",
    "# Calculate the adjacency matrix\n",
    "adj_matrix = nx.to_numpy_array(G)\n",
    "\n",
    "# Print the adjacency matrix\n",
    "print(\"Adjacency Matrix:\")\n",
    "print(adj_matrix)"
   ]
  },
  {
   "cell_type": "code",
   "execution_count": null,
   "metadata": {},
   "outputs": [],
   "source": [
    "betweenness_centrality = nx.betweenness_centrality(G)\n",
    "print(\"Betweenness Centrality:\")\n",
    "print(betweenness_centrality)\n",
    "\n",
    "closeness_centrality = nx.closeness_centrality(G)\n",
    "print(\"Closeness Centrality:\")\n",
    "print(closeness_centrality)\n",
    "\n",
    "# Nodes for which you want to calculate similarity\n",
    "node_v3 = 3\n",
    "node_v5 = 5\n",
    "\n",
    "# Get the neighbors of node_v3 and node_v5\n",
    "neighbors_v3 = set(G.neighbors(node_v3))\n",
    "neighbors_v5 = set(G.neighbors(node_v5))\n",
    "\n",
    "# Jaccard Similarity\n",
    "jaccard_similarity = len(neighbors_v3.intersection(neighbors_v5)) / len(neighbors_v3.union(neighbors_v5))\n",
    "\n",
    "# Cosine Similarity\n",
    "cosine_similarity = len(neighbors_v3.intersection(neighbors_v5)) / (len(neighbors_v3) * len(neighbors_v5)) ** 0.5\n",
    "\n",
    "print(f\"Jaccard Similarity between v3 and v5: {jaccard_similarity:.4f}\")\n",
    "print(f\"Cosine Similarity between v3 and v5: {cosine_similarity:.4f}\")\n",
    "\n",
    "# Choose a node for which you want to calculate the local clustering coefficient\n",
    "node_of_interest = [1, 3, 5, 6]\n",
    "\n",
    "for node in node_of_interest:\n",
    "    # Calculate the local clustering coefficient for the chosen node\n",
    "    local_clustering_coefficient = nx.clustering(G, node)\n",
    "\n",
    "    print(f\"Local Clustering Coefficient for Node {node}: {local_clustering_coefficient:.4f}\")\n",
    "\n",
    "\n",
    "\n",
    "\n",
    "# Create an empty graph\n",
    "PrimsG = nx.Graph()\n",
    "\n",
    "# Add nodes and edges to represent the ConnectWorld graph\n",
    "PrimsG.add_nodes_from(['v1', 'v2', 'v3', 'v4', 'v5', 'v6'])\n",
    "PrimsG.add_weighted_edges_from([('v1', 'v2', 6), ('v1', 'v3', 3), ('v1', 'v5', 4), ('v2', 'v3', 6),\n",
    "                                ('v2', 'v4', 4), ('v2', 'v5', 5), ('v3', 'v5', 2), ('v4', 'v5', 7),\n",
    "                                ('v4', 'v6', 6), ('v5', 'v6', 7)])\n",
    "\n",
    "# Modify the graph to make 'v3' the first node\n",
    "new_order = ['v3'] + [node for node in PrimsG.nodes() if node != 'v3']\n",
    "PrimsG = PrimsG.subgraph(new_order).copy()\n",
    "\n",
    "# Initialize the MST using Prim's algorithm\n",
    "MST = nx.minimum_spanning_tree(PrimsG)\n",
    "\n",
    "# Calculate cumulative weights\n",
    "cumulative_weight = 0\n",
    "steps = []\n",
    "\n",
    "for u, v, w in MST.edges(data=True):\n",
    "    cumulative_weight += w['weight']\n",
    "    steps.append((u, v, cumulative_weight))\n",
    "\n",
    "# Sort the steps by cumulative weight\n",
    "steps.sort(key=lambda x: x[2])\n",
    "\n",
    "# Print the steps\n",
    "for step in steps:\n",
    "    print(f\"Chosen Edge: {step[0]} - {step[1]}, Cumulative Weight: {step[2]}\")"
   ]
  },
  {
   "cell_type": "code",
   "execution_count": null,
   "metadata": {},
   "outputs": [],
   "source": []
  }
 ],
 "metadata": {
  "kernelspec": {
   "display_name": "Python 3",
   "language": "python",
   "name": "python3"
  },
  "language_info": {
   "codemirror_mode": {
    "name": "ipython",
    "version": 3
   },
   "file_extension": ".py",
   "mimetype": "text/x-python",
   "name": "python",
   "nbconvert_exporter": "python",
   "pygments_lexer": "ipython3",
   "version": "3.10.12"
  },
  "orig_nbformat": 4
 },
 "nbformat": 4,
 "nbformat_minor": 2
}
